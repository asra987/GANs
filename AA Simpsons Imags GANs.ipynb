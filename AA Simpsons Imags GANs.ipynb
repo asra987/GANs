{
 "cells": [
  {
   "cell_type": "markdown",
   "metadata": {
    "_uuid": "a33f0a41005c23fa4daac4c999fc9948e47d7cad"
   },
   "source": [
    "In this assignment you are generating sample images of Simpsons with deep convolutional generative adversarial networks (DCGANs). \n",
    "\n",
    "You need to do the following:\n",
    "\n",
    "1- Read and understand this tutorial: https://towardsdatascience.com/image-generator-drawing-cartoons-with-generative-adversarial-networks-45e814ca9b6b (Links to an external site.)Links to an external site.\n",
    "\n",
    "2- Download the dataset and the source code (Jupyter Notebook) given in the tutorial. Analyze and understand the code. (Note: you need to work on images in the \"cropped\" folder in the dataset)\n",
    "\n",
    "3- The code is implemented using Tensorflow. You need to change it to fully uses Keras. Please keep the structure of the code (name of the functions and so on) so it is easier to follow your code. \n",
    "\n",
    "4- Change the code to use resized images. The original images are 128x128 but you need to resize them to 64x64 before training. You need to make required adjustments in the network to accommodate this change. Thsi will make training faster too. \n",
    "\n",
    "5- Make sure you keep all the plotting parts of the code so you can observe how the system learns in each epoch. \n",
    "\n",
    "6- If training on Colab will be slow, you can only run it for 50 epochs (or as many as possible).  To test your code, you can run first one or two epochs. Once everything is working, then you can let it run for 50 or 300 epochs. \n",
    "\n",
    "7- If you wanted to run it faster, you can get free trials of GPU instances on AWS or Google cloud. \n",
    "\n",
    "8- Submit the notebook with all the results included in the notebook. "
   ]
  },
  {
   "cell_type": "code",
   "execution_count": 1,
   "metadata": {
    "_uuid": "267d5504009eca2b809a2691131366baebe98436"
   },
   "outputs": [
    {
     "name": "stderr",
     "output_type": "stream",
     "text": [
      "Using TensorFlow backend.\n"
     ]
    }
   ],
   "source": [
    "import numpy as np\n",
    "import pandas as pd \n",
    "import keras\n",
    "from keras.layers import Input, Dense, Reshape, Flatten, Dropout,Concatenate\n",
    "from keras.backend import random_normal,ones_like,zeros_like,mean\n",
    "from keras.backend import get_session\n",
    "from keras.layers import BatchNormalization, Activation, ZeroPadding2D\n",
    "from keras.layers.advanced_activations import LeakyReLU\n",
    "from keras.layers.convolutional import UpSampling2D, Conv2D\n",
    "from keras.models import Sequential, Model\n",
    "from keras.optimizers import Adam\n",
    "from keras.initializers import TruncatedNormal\n",
    "from PIL import Image\n",
    "import warnings\n",
    "import os\n",
    "import time\n",
    "from glob import glob\n",
    "import datetime\n",
    "import matplotlib.pyplot as plt\n",
    "import seaborn as sns"
   ]
  },
  {
   "cell_type": "code",
   "execution_count": 2,
   "metadata": {},
   "outputs": [],
   "source": [
    "# Hyperparameters\n",
    "IMG_SIZE = 64\n",
    "NOISE_SIZE = 100\n",
    "LR_D = 0.00004\n",
    "LR_G = 0.0004\n",
    "BATCH_SIZE = 64\n",
    "EPOCHS = 50 # For better results increase this value \n",
    "BETA1 = 0.5\n",
    "WEIGHT_INIT_STDDEV = 0.02\n",
    "EPSILON = 0.00005\n",
    "SAMPLES_TO_SHOW = 10\n",
    "img_rows = 64\n",
    "img_cols = 64\n",
    "CHANNELS = 3\n",
    "img_shape = (img_rows, img_cols, CHANNELS)"
   ]
  },
  {
   "cell_type": "code",
   "execution_count": 3,
   "metadata": {},
   "outputs": [],
   "source": [
    "def GeneratorFunction(noise_shape=(NOISE_SIZE,)):\n",
    "    \n",
    "    input_layer = Input(noise_shape)\n",
    "    generator = Dense(1024*8*8, activation='relu')(input_layer)\n",
    "    generator = Reshape((8, 8, 1024)) (generator)\n",
    "    generator = LeakyReLU(alpha=0.2) (generator)\n",
    "                        \n",
    "    generator = keras.layers.Conv2DTranspose(filters=512, kernel_size=[5,5], padding=\"same\",\n",
    "                                             strides=[2,2], kernel_initializer=TruncatedNormal(stddev = WEIGHT_INIT_STDDEV))(generator)\n",
    "    generator = BatchNormalization(momentum=0.8,epsilon = EPSILON) (generator)\n",
    "    generator = keras.layers.LeakyReLU(alpha=0.2) (generator)\n",
    "                        \n",
    "    generator = keras.layers.Conv2DTranspose(filters=256, kernel_size=[5,5], padding=\"same\", strides=[2,2],\n",
    "                                               kernel_initializer=TruncatedNormal(stddev = WEIGHT_INIT_STDDEV))(generator)\n",
    "    generator = BatchNormalization(momentum=0.8,epsilon = EPSILON,name=\"batch_trans_conv2\") (generator)\n",
    "    generator = keras.layers.LeakyReLU(alpha=0.2) (generator)\n",
    "                        \n",
    "    generator = keras.layers.Conv2DTranspose(filters=128, kernel_size=[5,5], padding=\"same\", strides=[2,2],\n",
    "                                               kernel_initializer=TruncatedNormal(stddev = WEIGHT_INIT_STDDEV)) (generator)\n",
    "    generator = BatchNormalization(momentum=0.8,epsilon = EPSILON,name=\"batch_trans_conv3\") (generator)\n",
    "    generator = keras.layers.LeakyReLU(alpha=0.2)(generator)\n",
    "    \n",
    "    generator = keras.layers.Conv2DTranspose(filters=64, kernel_size=[5,5], padding=\"same\", strides=[1,1],\n",
    "                                               kernel_initializer=TruncatedNormal(stddev = WEIGHT_INIT_STDDEV)) (generator)\n",
    "    generator = BatchNormalization(momentum=0.8,epsilon = EPSILON,name=\"batch_trans_conv4\") (generator)\n",
    "    generator = keras.layers.LeakyReLU(alpha=0.2) (generator)\n",
    "    \n",
    "    generator = keras.layers.Conv2DTranspose(filters=3, kernel_size=[5,5], padding=\"same\", strides=[1,1],\n",
    "                                               kernel_initializer=TruncatedNormal(stddev = WEIGHT_INIT_STDDEV)) (generator)\n",
    "    out = Activation(\"tanh\")(generator)\n",
    "    \n",
    "    model = Model(inputs=[input_layer], outputs=out)\n",
    "    model.summary()\n",
    "  \n",
    "    return model"
   ]
  },
  {
   "cell_type": "code",
   "execution_count": 4,
   "metadata": {},
   "outputs": [],
   "source": [
    "def discriminatorFunction(img_shape=(IMG_SIZE, IMG_SIZE, CHANNELS)):\n",
    "    \n",
    "    input_layer = Input(img_shape)\n",
    "    discriminator = Conv2D(filters = 64, kernel_size=[5,5],strides=[2,2],kernel_initializer=TruncatedNormal(stddev = WEIGHT_INIT_STDDEV), \n",
    "                             padding=\"SAME\",input_shape = img_shape)(input_layer)\n",
    "    \n",
    "    discriminator = BatchNormalization(momentum=0.8,epsilon = EPSILON)(discriminator)\n",
    "    discriminator = LeakyReLU(alpha=0.2)(discriminator)\n",
    "\n",
    "    discriminator = Conv2D(filters=128, kernel_size=[5,5], strides=[2,2], padding=\"same\",\n",
    "                              kernel_initializer=TruncatedNormal(stddev = WEIGHT_INIT_STDDEV))(discriminator)\n",
    "\n",
    "    discriminator = BatchNormalization(momentum=0.8,epsilon = EPSILON)(discriminator)\n",
    "    discriminator = LeakyReLU(alpha=0.2)(discriminator)\n",
    "\n",
    "    discriminator = Conv2D(filters=256, kernel_size=[5,5], strides=[2,2], padding=\"same\",\n",
    "                             kernel_initializer=TruncatedNormal(stddev = WEIGHT_INIT_STDDEV))(discriminator)\n",
    "\n",
    "    discriminator = BatchNormalization(momentum=0.8,epsilon = EPSILON)(discriminator)\n",
    "    discriminator = LeakyReLU(alpha=0.2)(discriminator)\n",
    "\n",
    "    discriminator = Conv2D(filters=512, kernel_size=[5,5], strides=[1,1], padding=\"same\",\n",
    "                             kernel_initializer=TruncatedNormal(stddev = WEIGHT_INIT_STDDEV))(discriminator)\n",
    "\n",
    "    discriminator = BatchNormalization(momentum=0.8,epsilon = EPSILON)(discriminator)\n",
    "    discriminator = LeakyReLU(alpha=0.2)(discriminator)\n",
    "\n",
    "    discriminator = Conv2D(filters=1024, kernel_size=[5,5], strides=[2,2], padding=\"same\",\n",
    "                             kernel_initializer=TruncatedNormal(stddev = WEIGHT_INIT_STDDEV))(discriminator)\n",
    "    \n",
    "    discriminator = BatchNormalization(momentum=0.8,epsilon = EPSILON)(discriminator)\n",
    "    discriminator = LeakyReLU(alpha=0.2)(discriminator)\n",
    "\n",
    "    discriminator = Flatten()(discriminator)\n",
    "\n",
    "    out = Dense(1, activation='sigmoid')(discriminator)\n",
    "\n",
    "    model = Model(inputs=[input_layer], outputs=out)\n",
    "    model.summary()\n",
    "    \n",
    "    return model"
   ]
  },
  {
   "cell_type": "code",
   "execution_count": 5,
   "metadata": {},
   "outputs": [
    {
     "name": "stderr",
     "output_type": "stream",
     "text": [
      "WARNING: Logging before flag parsing goes to stderr.\n",
      "W0911 18:08:44.245489 18000 deprecation_wrapper.py:119] From C:\\Users\\Asra Iqbal\\Anaconda3\\lib\\site-packages\\keras\\backend\\tensorflow_backend.py:74: The name tf.get_default_graph is deprecated. Please use tf.compat.v1.get_default_graph instead.\n",
      "\n",
      "W0911 18:08:44.285480 18000 deprecation_wrapper.py:119] From C:\\Users\\Asra Iqbal\\Anaconda3\\lib\\site-packages\\keras\\backend\\tensorflow_backend.py:517: The name tf.placeholder is deprecated. Please use tf.compat.v1.placeholder instead.\n",
      "\n",
      "W0911 18:08:44.293479 18000 deprecation_wrapper.py:119] From C:\\Users\\Asra Iqbal\\Anaconda3\\lib\\site-packages\\keras\\backend\\tensorflow_backend.py:4185: The name tf.truncated_normal is deprecated. Please use tf.random.truncated_normal instead.\n",
      "\n",
      "W0911 18:08:44.353465 18000 deprecation_wrapper.py:119] From C:\\Users\\Asra Iqbal\\Anaconda3\\lib\\site-packages\\keras\\backend\\tensorflow_backend.py:174: The name tf.get_default_session is deprecated. Please use tf.compat.v1.get_default_session instead.\n",
      "\n",
      "W0911 18:08:44.353465 18000 deprecation_wrapper.py:119] From C:\\Users\\Asra Iqbal\\Anaconda3\\lib\\site-packages\\keras\\backend\\tensorflow_backend.py:181: The name tf.ConfigProto is deprecated. Please use tf.compat.v1.ConfigProto instead.\n",
      "\n",
      "W0911 18:08:44.425444 18000 deprecation_wrapper.py:119] From C:\\Users\\Asra Iqbal\\Anaconda3\\lib\\site-packages\\keras\\backend\\tensorflow_backend.py:1834: The name tf.nn.fused_batch_norm is deprecated. Please use tf.compat.v1.nn.fused_batch_norm instead.\n",
      "\n",
      "W0911 18:08:45.457187 18000 deprecation_wrapper.py:119] From C:\\Users\\Asra Iqbal\\Anaconda3\\lib\\site-packages\\keras\\optimizers.py:790: The name tf.train.Optimizer is deprecated. Please use tf.compat.v1.train.Optimizer instead.\n",
      "\n",
      "W0911 18:08:45.481181 18000 deprecation.py:323] From C:\\Users\\Asra Iqbal\\Anaconda3\\lib\\site-packages\\tensorflow\\python\\ops\\nn_impl.py:180: add_dispatch_support.<locals>.wrapper (from tensorflow.python.ops.array_ops) is deprecated and will be removed in a future version.\n",
      "Instructions for updating:\n",
      "Use tf.where in 2.0, which has the same broadcast rule as np.where\n"
     ]
    },
    {
     "name": "stdout",
     "output_type": "stream",
     "text": [
      "_________________________________________________________________\n",
      "Layer (type)                 Output Shape              Param #   \n",
      "=================================================================\n",
      "input_1 (InputLayer)         (None, 64, 64, 3)         0         \n",
      "_________________________________________________________________\n",
      "conv2d_1 (Conv2D)            (None, 32, 32, 64)        4864      \n",
      "_________________________________________________________________\n",
      "batch_normalization_1 (Batch (None, 32, 32, 64)        256       \n",
      "_________________________________________________________________\n",
      "leaky_re_lu_1 (LeakyReLU)    (None, 32, 32, 64)        0         \n",
      "_________________________________________________________________\n",
      "conv2d_2 (Conv2D)            (None, 16, 16, 128)       204928    \n",
      "_________________________________________________________________\n",
      "batch_normalization_2 (Batch (None, 16, 16, 128)       512       \n",
      "_________________________________________________________________\n",
      "leaky_re_lu_2 (LeakyReLU)    (None, 16, 16, 128)       0         \n",
      "_________________________________________________________________\n",
      "conv2d_3 (Conv2D)            (None, 8, 8, 256)         819456    \n",
      "_________________________________________________________________\n",
      "batch_normalization_3 (Batch (None, 8, 8, 256)         1024      \n",
      "_________________________________________________________________\n",
      "leaky_re_lu_3 (LeakyReLU)    (None, 8, 8, 256)         0         \n",
      "_________________________________________________________________\n",
      "conv2d_4 (Conv2D)            (None, 8, 8, 512)         3277312   \n",
      "_________________________________________________________________\n",
      "batch_normalization_4 (Batch (None, 8, 8, 512)         2048      \n",
      "_________________________________________________________________\n",
      "leaky_re_lu_4 (LeakyReLU)    (None, 8, 8, 512)         0         \n",
      "_________________________________________________________________\n",
      "conv2d_5 (Conv2D)            (None, 4, 4, 1024)        13108224  \n",
      "_________________________________________________________________\n",
      "batch_normalization_5 (Batch (None, 4, 4, 1024)        4096      \n",
      "_________________________________________________________________\n",
      "leaky_re_lu_5 (LeakyReLU)    (None, 4, 4, 1024)        0         \n",
      "_________________________________________________________________\n",
      "flatten_1 (Flatten)          (None, 16384)             0         \n",
      "_________________________________________________________________\n",
      "dense_1 (Dense)              (None, 1)                 16385     \n",
      "=================================================================\n",
      "Total params: 17,439,105\n",
      "Trainable params: 17,435,137\n",
      "Non-trainable params: 3,968\n",
      "_________________________________________________________________\n"
     ]
    }
   ],
   "source": [
    "#print(\"Discriminator\")\n",
    "model_discriminator = discriminatorFunction(img_shape=(IMG_SIZE, IMG_SIZE, CHANNELS))\n",
    "model_discriminator.compile(loss='binary_crossentropy',\n",
    "                                    optimizer=Adam(lr=LR_D, beta_1=BETA1),\n",
    "                                    metrics=['accuracy'])"
   ]
  },
  {
   "cell_type": "code",
   "execution_count": 6,
   "metadata": {},
   "outputs": [
    {
     "name": "stdout",
     "output_type": "stream",
     "text": [
      "Generator\n",
      "_________________________________________________________________\n",
      "Layer (type)                 Output Shape              Param #   \n",
      "=================================================================\n",
      "input_2 (InputLayer)         (None, 100)               0         \n",
      "_________________________________________________________________\n",
      "dense_2 (Dense)              (None, 65536)             6619136   \n",
      "_________________________________________________________________\n",
      "reshape_1 (Reshape)          (None, 8, 8, 1024)        0         \n",
      "_________________________________________________________________\n",
      "leaky_re_lu_6 (LeakyReLU)    (None, 8, 8, 1024)        0         \n",
      "_________________________________________________________________\n",
      "conv2d_transpose_1 (Conv2DTr (None, 16, 16, 512)       13107712  \n",
      "_________________________________________________________________\n",
      "batch_normalization_6 (Batch (None, 16, 16, 512)       2048      \n",
      "_________________________________________________________________\n",
      "leaky_re_lu_7 (LeakyReLU)    (None, 16, 16, 512)       0         \n",
      "_________________________________________________________________\n",
      "conv2d_transpose_2 (Conv2DTr (None, 32, 32, 256)       3277056   \n",
      "_________________________________________________________________\n",
      "batch_trans_conv2 (BatchNorm (None, 32, 32, 256)       1024      \n",
      "_________________________________________________________________\n",
      "leaky_re_lu_8 (LeakyReLU)    (None, 32, 32, 256)       0         \n",
      "_________________________________________________________________\n",
      "conv2d_transpose_3 (Conv2DTr (None, 64, 64, 128)       819328    \n",
      "_________________________________________________________________\n",
      "batch_trans_conv3 (BatchNorm (None, 64, 64, 128)       512       \n",
      "_________________________________________________________________\n",
      "leaky_re_lu_9 (LeakyReLU)    (None, 64, 64, 128)       0         \n",
      "_________________________________________________________________\n",
      "conv2d_transpose_4 (Conv2DTr (None, 64, 64, 64)        204864    \n",
      "_________________________________________________________________\n",
      "batch_trans_conv4 (BatchNorm (None, 64, 64, 64)        256       \n",
      "_________________________________________________________________\n",
      "leaky_re_lu_10 (LeakyReLU)   (None, 64, 64, 64)        0         \n",
      "_________________________________________________________________\n",
      "conv2d_transpose_5 (Conv2DTr (None, 64, 64, 3)         4803      \n",
      "_________________________________________________________________\n",
      "activation_1 (Activation)    (None, 64, 64, 3)         0         \n",
      "=================================================================\n",
      "Total params: 24,036,739\n",
      "Trainable params: 24,034,819\n",
      "Non-trainable params: 1,920\n",
      "_________________________________________________________________\n"
     ]
    }
   ],
   "source": [
    "print(\"Generator\")\n",
    "model_generator = GeneratorFunction(noise_shape=(NOISE_SIZE,))"
   ]
  },
  {
   "cell_type": "code",
   "execution_count": 7,
   "metadata": {},
   "outputs": [
    {
     "name": "stdout",
     "output_type": "stream",
     "text": [
      "Model created based on Discriminator and Generator\n",
      "_________________________________________________________________\n",
      "Layer (type)                 Output Shape              Param #   \n",
      "=================================================================\n",
      "input_3 (InputLayer)         (None, 100)               0         \n",
      "_________________________________________________________________\n",
      "model_2 (Model)              (None, 64, 64, 3)         24036739  \n",
      "_________________________________________________________________\n",
      "model_1 (Model)              (None, 1)                 17439105  \n",
      "=================================================================\n",
      "Total params: 41,475,844\n",
      "Trainable params: 24,034,819\n",
      "Non-trainable params: 17,441,025\n",
      "_________________________________________________________________\n"
     ]
    }
   ],
   "source": [
    "#build thwe Gan\n",
    "z = Input(shape=(NOISE_SIZE,))\n",
    "img = model_generator(z)\n",
    "model_discriminator.trainable = False #discriminator is not trainable for GANs\n",
    "real = model_discriminator(img)\n",
    "gan = Model(z, real)\n",
    "gan.compile(loss='binary_crossentropy', optimizer=Adam(lr=LR_G, beta_1=BETA1))\n",
    "print(\"Model created based on Discriminator and Generator\")\n",
    "gan.summary()\n"
   ]
  },
  {
   "cell_type": "code",
   "execution_count": 8,
   "metadata": {
    "_uuid": "3a7808bacf25966ab5a8ca06e2e1075ac8eeb662"
   },
   "outputs": [],
   "source": [
    "def show_samples(sample_images, name, epoch):\n",
    "    figure, axes = plt.subplots(1, len(sample_images), figsize = (IMG_SIZE, IMG_SIZE))\n",
    "    figure.set_size_inches(15,15)\n",
    "    for index, axis in enumerate(axes):\n",
    "        image_array = sample_images[index]\n",
    "        axis.imshow(image_array)\n",
    "    plt.tight_layout()\n",
    "    plt.show()\n",
    "    plt.close()"
   ]
  },
  {
   "cell_type": "code",
   "execution_count": 9,
   "metadata": {
    "_uuid": "0ed8f1c378f936ac81ae89b35d5b6914cd6efbbb"
   },
   "outputs": [],
   "source": [
    "def summarize_epoch(d_losses, g_losses):\n",
    "    fig, ax = plt.subplots()\n",
    "    plt.plot(d_losses, label='Discriminator', alpha=0.6)\n",
    "    plt.plot(g_losses, label='Generator', alpha=0.6)\n",
    "    plt.title(\"Losses\")\n",
    "    plt.legend()\n",
    "    plt.show()\n",
    "    plt.close()"
   ]
  },
  {
   "cell_type": "code",
   "execution_count": 10,
   "metadata": {},
   "outputs": [
    {
     "data": {
      "text/plain": [
       "'C:\\\\Users\\\\Asra Iqbal\\\\GANs'"
      ]
     },
     "execution_count": 10,
     "metadata": {},
     "output_type": "execute_result"
    }
   ],
   "source": [
    "os.getcwd()"
   ]
  },
  {
   "cell_type": "code",
   "execution_count": 11,
   "metadata": {},
   "outputs": [],
   "source": [
    "# Paths\n",
    "INPUT_DATA_DIR = \"C:/Users/Asra Iqbal/GANs/input/croppedd/\" # Path to the folder with input images. For more info check simspons_dataset.txt\n",
    "# OUTPUT_DIR = './{date:%Y-%m-%d_%H:%M:%S}/'.format(date=datetime.datetime.now())\n",
    "# if not os.path.exists(OUTPUT_DIR):\n",
    "#     os.makedirs(OUTPUT_DIR)\n",
    "OUTPUT_DIR = \"\""
   ]
  },
  {
   "cell_type": "code",
   "execution_count": 12,
   "metadata": {
    "_uuid": "1ee6349afccb4d2f29f36d6605dd2f156350821a",
    "scrolled": false
   },
   "outputs": [
    {
     "name": "stdout",
     "output_type": "stream",
     "text": [
      "Start!\n",
      "Input: (9877, 64, 64, 3)\n"
     ]
    },
    {
     "data": {
      "image/png": "[encoded data removed]",
      "text/plain": [
       "<matplotlib.figure.Figure at 0x25b5a3154a8>"
      ]
     },
     "metadata": {},
     "output_type": "display_data"
    }
   ],
   "source": [
    "import warnings\n",
    "warnings.filterwarnings(\"ignore\")\n",
    "import random\n",
    "from scipy import ndimage, misc\n",
    "# # Training\n",
    "# INPUT_DATA_DIR = \"../input/cropped/\"\n",
    "# OUTPUT_DIR = \"\"\n",
    "\n",
    "exclude_img = [\"9746\",\"9731\",\"9717\",\"9684\",\"9637\",\"9641\",\"9642\",\"9584\",\"9541\",\"9535\",\n",
    "\"9250\",\"9251\",\"9252\",\"9043\",\"8593\",\"8584\",\"8052\",\"8051\",\"8008\",\"7957\",\n",
    "\"7958\"\"7761\",\"7762\",\"9510\",\"9307\",\"4848\",\"4791\",\"4785\",\"4465\",\"2709\",\n",
    "\"7724\",\"7715\",\"7309\",\"7064\",\"7011\",\"6961\",\"6962\",\"6963\",\"6960\",\"6949\",\n",
    "\"6662\",\"6496\",\"6409\",\"6411\",\"6406\",\"6407\",\"6170\",\"6171\",\"6172\",\"5617\",\n",
    "\"4363\",\"4232\",\"4086\",\"4047\",\"3894\",\"3889\",\"3493\",\"3393\",\"3362\",\"2780\",\n",
    "\"2710\",\"2707\",\"2708\",\"2711\",\"2712\",\"2309\",\"2056\",\"1943\",\"1760\",\"1743\",\n",
    "\"1702\",\"1281\",\"1272\",\"772\",\"736\",\"737\",\"691\",\"684\",\"314\",\"242\",\"191\"]\n",
    "\n",
    "exclude_img = [s + \".png\" for s in exclude_img]\n",
    "\n",
    "print(\"Start!\")\n",
    "\n",
    "import re\n",
    "\n",
    "images = []\n",
    "\n",
    "for filename in glob( INPUT_DATA_DIR + '*'):\n",
    "    if filename not in exclude_img:\n",
    "        if re.search(\"\\.(jpg|jpeg|png|bmp|tiff)$\", filename):\n",
    "            image = ndimage.imread(filename, mode=\"RGB\")\n",
    "            image_resized = misc.imresize(image, (64, 64))\n",
    "            images.append(np.array(image_resized))\n",
    "\n",
    "images = np.array(images) / 255\n",
    "#input_images = np.asarray([np.asarray(Image.open(file).resize((IMAGE_SIZE, IMAGE_SIZE))) for file in glob( INPUT_DATA_DIR + '*')])\n",
    "print (\"Input: \" + str(images.shape))\n",
    "\n",
    "np.random.shuffle(images)\n",
    "\n",
    "\n",
    "sample_images = random.sample(list(images), SAMPLES_TO_SHOW)\n",
    "show_samples(sample_images, OUTPUT_DIR + \"inputs\", 0)"
   ]
  },
  {
   "cell_type": "code",
   "execution_count": 13,
   "metadata": {},
   "outputs": [],
   "source": [
    "# Adversarial ground truths\n",
    "valid = np.ones((BATCH_SIZE, 1))\n",
    "fake = np.zeros((BATCH_SIZE, 1))\n",
    "\n",
    "r, c = 4, 4\n",
    "noise = np.random.normal(0, 1, (r*c, NOISE_SIZE))"
   ]
  },
  {
   "cell_type": "code",
   "execution_count": 14,
   "metadata": {},
   "outputs": [
    {
     "name": "stdout",
     "output_type": "stream",
     "text": [
      "Training begins... Total epochs: 50, steps per epoch: 154\n"
     ]
    }
   ],
   "source": [
    "#calculate steps per epoch\n",
    "steps_per_epoch = len(images)//BATCH_SIZE\n",
    "print(\"Training begins... Total epochs: {}, steps per epoch: {}\".format(EPOCHS, steps_per_epoch))"
   ]
  },
  {
   "cell_type": "code",
   "execution_count": 15,
   "metadata": {},
   "outputs": [],
   "source": [
    "steps_list = [x for x in range(steps_per_epoch)]"
   ]
  },
  {
   "cell_type": "code",
   "execution_count": 16,
   "metadata": {},
   "outputs": [
    {
     "name": "stderr",
     "output_type": "stream",
     "text": [
      "\r",
      "  0%|          | 0/50 [00:00<?, ?it/s]"
     ]
    },
    {
     "name": "stdout",
     "output_type": "stream",
     "text": [
      "Epoch: 1/50 | Step: 1/154 [D loss: 1.5686, acc.: 27.34%] [G loss: 1.0312]\n",
      "Epoch: 1/50 | Step: 2/154 [D loss: 2.3796, acc.: 50.00%] [G loss: 0.9390]\n",
      "Epoch: 1/50 | Step: 3/154 [D loss: 1.9114, acc.: 43.75%] [G loss: 2.3930]\n",
      "Epoch: 1/50 | Step: 4/154 [D loss: 1.8190, acc.: 19.53%] [G loss: 3.4198]\n",
      "Epoch: 1/50 | Step: 5/154 [D loss: 1.8624, acc.: 19.53%] [G loss: 3.0966]\n",
      "Epoch: 1/50 | Step: 6/154 [D loss: 1.5718, acc.: 27.34%] [G loss: 4.7615]\n",
      "Epoch: 1/50 | Step: 7/154 [D loss: 1.0281, acc.: 45.31%] [G loss: 4.5242]\n",
      "Epoch: 1/50 | Step: 8/154 [D loss: 0.6785, acc.: 60.16%] [G loss: 5.2796]\n",
      "Epoch: 1/50 | Step: 9/154 [D loss: 0.7308, acc.: 58.59%] [G loss: 5.1627]\n",
      "Epoch: 1/50 | Step: 10/154 [D loss: 0.6667, acc.: 67.97%] [G loss: 5.6987]\n",
      "Epoch: 1/50 | Step: 11/154 [D loss: 0.7548, acc.: 56.25%] [G loss: 7.2496]\n",
      "Epoch: 1/50 | Step: 12/154 [D loss: 0.5209, acc.: 74.22%] [G loss: 5.2328]\n",
      "Epoch: 1/50 | Step: 13/154 [D loss: 0.6931, acc.: 64.06%] [G loss: 5.6757]\n",
      "Epoch: 1/50 | Step: 14/154 [D loss: 0.2962, acc.: 89.84%] [G loss: 3.7176]\n",
      "Epoch: 1/50 | Step: 15/154 [D loss: 0.9321, acc.: 53.12%] [G loss: 6.1512]\n",
      "Epoch: 1/50 | Step: 16/154 [D loss: 0.3382, acc.: 87.50%] [G loss: 2.2446]\n",
      "Epoch: 1/50 | Step: 17/154 [D loss: 0.7853, acc.: 59.38%] [G loss: 7.5107]\n",
      "Epoch: 1/50 | Step: 18/154 [D loss: 0.2942, acc.: 88.28%] [G loss: 3.9012]\n",
      "Epoch: 1/50 | Step: 19/154 [D loss: 0.6920, acc.: 60.94%] [G loss: 8.0261]\n",
      "Epoch: 1/50 | Step: 20/154 [D loss: 0.3467, acc.: 86.72%] [G loss: 7.1473]\n",
      "Epoch: 1/50 | Step: 21/154 [D loss: 1.2870, acc.: 45.31%] [G loss: 13.2010]\n",
      "Epoch: 1/50 | Step: 22/154 [D loss: 0.6153, acc.: 73.44%] [G loss: 5.3309]\n",
      "Epoch: 1/50 | Step: 23/154 [D loss: 1.5952, acc.: 30.47%] [G loss: 10.8323]\n",
      "Epoch: 1/50 | Step: 24/154 [D loss: 0.3061, acc.: 86.72%] [G loss: 3.8497]\n",
      "Epoch: 1/50 | Step: 25/154 [D loss: 0.6233, acc.: 64.06%] [G loss: 2.8363]\n",
      "Epoch: 1/50 | Step: 26/154 [D loss: 0.2970, acc.: 87.50%] [G loss: 0.2379]\n",
      "Epoch: 1/50 | Step: 27/154 [D loss: 0.8461, acc.: 60.16%] [G loss: 1.7679]\n",
      "Epoch: 1/50 | Step: 28/154 [D loss: 0.7240, acc.: 64.84%] [G loss: 3.3893]\n",
      "Epoch: 1/50 | Step: 29/154 [D loss: 1.2030, acc.: 35.94%] [G loss: 10.5142]\n",
      "Epoch: 1/50 | Step: 30/154 [D loss: 0.6768, acc.: 71.09%] [G loss: 4.9786]\n"
     ]
    },
    {
     "ename": "KeyboardInterrupt",
     "evalue": "",
     "output_type": "error",
     "traceback": [
      "\u001b[1;31m---------------------------------------------------------------------------\u001b[0m",
      "\u001b[1;31mKeyboardInterrupt\u001b[0m                         Traceback (most recent call last)",
      "\u001b[1;32m<ipython-input-16-83bfc07ee6a9>\u001b[0m in \u001b[0;36m<module>\u001b[1;34m()\u001b[0m\n\u001b[0;32m     35\u001b[0m \u001b[1;33m\u001b[0m\u001b[0m\n\u001b[0;32m     36\u001b[0m         \u001b[1;31m# Train the generator (wants discriminator to mistake images as real)\u001b[0m\u001b[1;33m\u001b[0m\u001b[1;33m\u001b[0m\u001b[0m\n\u001b[1;32m---> 37\u001b[1;33m         \u001b[0mg_loss\u001b[0m \u001b[1;33m=\u001b[0m \u001b[0mgan\u001b[0m\u001b[1;33m.\u001b[0m\u001b[0mtrain_on_batch\u001b[0m\u001b[1;33m(\u001b[0m\u001b[0mnoise\u001b[0m\u001b[1;33m,\u001b[0m \u001b[0mvalid\u001b[0m\u001b[1;33m)\u001b[0m\u001b[1;33m\u001b[0m\u001b[0m\n\u001b[0m\u001b[0;32m     38\u001b[0m \u001b[1;33m\u001b[0m\u001b[0m\n\u001b[0;32m     39\u001b[0m         \u001b[1;31m# Plot the progress\u001b[0m\u001b[1;33m\u001b[0m\u001b[1;33m\u001b[0m\u001b[0m\n",
      "\u001b[1;32m~\\Anaconda3\\lib\\site-packages\\keras\\engine\\training.py\u001b[0m in \u001b[0;36mtrain_on_batch\u001b[1;34m(self, x, y, sample_weight, class_weight)\u001b[0m\n\u001b[0;32m   1215\u001b[0m             \u001b[0mins\u001b[0m \u001b[1;33m=\u001b[0m \u001b[0mx\u001b[0m \u001b[1;33m+\u001b[0m \u001b[0my\u001b[0m \u001b[1;33m+\u001b[0m \u001b[0msample_weights\u001b[0m\u001b[1;33m\u001b[0m\u001b[0m\n\u001b[0;32m   1216\u001b[0m         \u001b[0mself\u001b[0m\u001b[1;33m.\u001b[0m\u001b[0m_make_train_function\u001b[0m\u001b[1;33m(\u001b[0m\u001b[1;33m)\u001b[0m\u001b[1;33m\u001b[0m\u001b[0m\n\u001b[1;32m-> 1217\u001b[1;33m         \u001b[0moutputs\u001b[0m \u001b[1;33m=\u001b[0m \u001b[0mself\u001b[0m\u001b[1;33m.\u001b[0m\u001b[0mtrain_function\u001b[0m\u001b[1;33m(\u001b[0m\u001b[0mins\u001b[0m\u001b[1;33m)\u001b[0m\u001b[1;33m\u001b[0m\u001b[0m\n\u001b[0m\u001b[0;32m   1218\u001b[0m         \u001b[1;32mreturn\u001b[0m \u001b[0munpack_singleton\u001b[0m\u001b[1;33m(\u001b[0m\u001b[0moutputs\u001b[0m\u001b[1;33m)\u001b[0m\u001b[1;33m\u001b[0m\u001b[0m\n\u001b[0;32m   1219\u001b[0m \u001b[1;33m\u001b[0m\u001b[0m\n",
      "\u001b[1;32m~\\Anaconda3\\lib\\site-packages\\keras\\backend\\tensorflow_backend.py\u001b[0m in \u001b[0;36m__call__\u001b[1;34m(self, inputs)\u001b[0m\n\u001b[0;32m   2713\u001b[0m                 \u001b[1;32mreturn\u001b[0m \u001b[0mself\u001b[0m\u001b[1;33m.\u001b[0m\u001b[0m_legacy_call\u001b[0m\u001b[1;33m(\u001b[0m\u001b[0minputs\u001b[0m\u001b[1;33m)\u001b[0m\u001b[1;33m\u001b[0m\u001b[0m\n\u001b[0;32m   2714\u001b[0m \u001b[1;33m\u001b[0m\u001b[0m\n\u001b[1;32m-> 2715\u001b[1;33m             \u001b[1;32mreturn\u001b[0m \u001b[0mself\u001b[0m\u001b[1;33m.\u001b[0m\u001b[0m_call\u001b[0m\u001b[1;33m(\u001b[0m\u001b[0minputs\u001b[0m\u001b[1;33m)\u001b[0m\u001b[1;33m\u001b[0m\u001b[0m\n\u001b[0m\u001b[0;32m   2716\u001b[0m         \u001b[1;32melse\u001b[0m\u001b[1;33m:\u001b[0m\u001b[1;33m\u001b[0m\u001b[0m\n\u001b[0;32m   2717\u001b[0m             \u001b[1;32mif\u001b[0m \u001b[0mpy_any\u001b[0m\u001b[1;33m(\u001b[0m\u001b[0mis_tensor\u001b[0m\u001b[1;33m(\u001b[0m\u001b[0mx\u001b[0m\u001b[1;33m)\u001b[0m \u001b[1;32mfor\u001b[0m \u001b[0mx\u001b[0m \u001b[1;32min\u001b[0m \u001b[0minputs\u001b[0m\u001b[1;33m)\u001b[0m\u001b[1;33m:\u001b[0m\u001b[1;33m\u001b[0m\u001b[0m\n",
      "\u001b[1;32m~\\Anaconda3\\lib\\site-packages\\keras\\backend\\tensorflow_backend.py\u001b[0m in \u001b[0;36m_call\u001b[1;34m(self, inputs)\u001b[0m\n\u001b[0;32m   2673\u001b[0m             \u001b[0mfetched\u001b[0m \u001b[1;33m=\u001b[0m \u001b[0mself\u001b[0m\u001b[1;33m.\u001b[0m\u001b[0m_callable_fn\u001b[0m\u001b[1;33m(\u001b[0m\u001b[1;33m*\u001b[0m\u001b[0marray_vals\u001b[0m\u001b[1;33m,\u001b[0m \u001b[0mrun_metadata\u001b[0m\u001b[1;33m=\u001b[0m\u001b[0mself\u001b[0m\u001b[1;33m.\u001b[0m\u001b[0mrun_metadata\u001b[0m\u001b[1;33m)\u001b[0m\u001b[1;33m\u001b[0m\u001b[0m\n\u001b[0;32m   2674\u001b[0m         \u001b[1;32melse\u001b[0m\u001b[1;33m:\u001b[0m\u001b[1;33m\u001b[0m\u001b[0m\n\u001b[1;32m-> 2675\u001b[1;33m             \u001b[0mfetched\u001b[0m \u001b[1;33m=\u001b[0m \u001b[0mself\u001b[0m\u001b[1;33m.\u001b[0m\u001b[0m_callable_fn\u001b[0m\u001b[1;33m(\u001b[0m\u001b[1;33m*\u001b[0m\u001b[0marray_vals\u001b[0m\u001b[1;33m)\u001b[0m\u001b[1;33m\u001b[0m\u001b[0m\n\u001b[0m\u001b[0;32m   2676\u001b[0m         \u001b[1;32mreturn\u001b[0m \u001b[0mfetched\u001b[0m\u001b[1;33m[\u001b[0m\u001b[1;33m:\u001b[0m\u001b[0mlen\u001b[0m\u001b[1;33m(\u001b[0m\u001b[0mself\u001b[0m\u001b[1;33m.\u001b[0m\u001b[0moutputs\u001b[0m\u001b[1;33m)\u001b[0m\u001b[1;33m]\u001b[0m\u001b[1;33m\u001b[0m\u001b[0m\n\u001b[0;32m   2677\u001b[0m \u001b[1;33m\u001b[0m\u001b[0m\n",
      "\u001b[1;32m~\\Anaconda3\\lib\\site-packages\\tensorflow\\python\\client\\session.py\u001b[0m in \u001b[0;36m__call__\u001b[1;34m(self, *args, **kwargs)\u001b[0m\n\u001b[0;32m   1456\u001b[0m         ret = tf_session.TF_SessionRunCallable(self._session._session,\n\u001b[0;32m   1457\u001b[0m                                                \u001b[0mself\u001b[0m\u001b[1;33m.\u001b[0m\u001b[0m_handle\u001b[0m\u001b[1;33m,\u001b[0m \u001b[0margs\u001b[0m\u001b[1;33m,\u001b[0m\u001b[1;33m\u001b[0m\u001b[0m\n\u001b[1;32m-> 1458\u001b[1;33m                                                run_metadata_ptr)\n\u001b[0m\u001b[0;32m   1459\u001b[0m         \u001b[1;32mif\u001b[0m \u001b[0mrun_metadata\u001b[0m\u001b[1;33m:\u001b[0m\u001b[1;33m\u001b[0m\u001b[0m\n\u001b[0;32m   1460\u001b[0m           \u001b[0mproto_data\u001b[0m \u001b[1;33m=\u001b[0m \u001b[0mtf_session\u001b[0m\u001b[1;33m.\u001b[0m\u001b[0mTF_GetBuffer\u001b[0m\u001b[1;33m(\u001b[0m\u001b[0mrun_metadata_ptr\u001b[0m\u001b[1;33m)\u001b[0m\u001b[1;33m\u001b[0m\u001b[0m\n",
      "\u001b[1;31mKeyboardInterrupt\u001b[0m: "
     ]
    }
   ],
   "source": [
    "warnings.filterwarnings(\"ignore\")\n",
    "from tqdm import tqdm\n",
    "\n",
    "d_loss_list = []\n",
    "g_loss_list = []\n",
    "\n",
    "for epoch in tqdm(range(EPOCHS)):\n",
    "    epoch += 1 #start from 1\n",
    "    # So, need to append d_loss, g_loss, and step to a dataframe with epoch as \n",
    "    \n",
    "    for step in range(steps_per_epoch):\n",
    "        step += 1 #start from 1\n",
    "\n",
    "        # ---------------------\n",
    "        #  Train Discriminator\n",
    "        # ---------------------\n",
    "\n",
    "        # Select a random half of images\n",
    "        idx = np.random.randint(0, images.shape[0], BATCH_SIZE)\n",
    "        imgs = images[idx]\n",
    "\n",
    "        # Sample noise and generate a batch of new images\n",
    "        noise = np.random.normal(0, 1, (BATCH_SIZE, NOISE_SIZE))\n",
    "        gen_imgs = model_generator.predict(noise)\n",
    "\n",
    "\n",
    "        # Train the discriminator (real classified as ones and generated as zeros)\n",
    "        d_loss_real = model_discriminator.train_on_batch(imgs, valid)\n",
    "        d_loss_fake = model_discriminator.train_on_batch(gen_imgs, fake)\n",
    "        d_loss = 0.5 * np.add(d_loss_real, d_loss_fake)\n",
    "\n",
    "        # ---------------------\n",
    "        #  Train GAN\n",
    "        # ---------------------\n",
    "\n",
    "        # Train the generator (wants discriminator to mistake images as real)\n",
    "        g_loss = gan.train_on_batch(noise, valid)\n",
    "\n",
    "        # Plot the progress\n",
    "        print (\"Epoch: {}/{} | Step: {}/{} [D loss: {:.4f}, acc.: {:.2f}%] [G loss: {:.4f}]\".format(\n",
    "                    epoch, EPOCHS, step, steps_per_epoch, d_loss[0], 100*d_loss[1], g_loss\n",
    "                ))\n",
    "\n",
    "        # Append d_loss, g_loss, and step to a dataframe\n",
    "        #step_df = df.append({'d_loss' : d_loss[0], 'g_loss' : g_loss}, ignore_index=True)\n",
    "\n",
    "        d_loss_zero = d_loss[0]\n",
    "\n",
    "        d_loss_list.append(d_loss_zero)\n",
    "        g_loss_list.append(g_loss)\n",
    "\n",
    "\n",
    "  # Plot Loss\n",
    "    summarize_epoch(d_loss_list,g_loss_list)\n",
    "\n",
    "    # Plot images\n",
    "    gen_imgs = model_generator.predict(noise)\n",
    "\n",
    "    fig, axs = plt.subplots(r, c)\n",
    "    cnt = 0\n",
    "    for i in range(r):\n",
    "        for j in range(c):\n",
    "            axs[i,j].imshow(gen_imgs[cnt, :, :, :])\n",
    "            axs[i,j].axis('off')\n",
    "            cnt += 1\n",
    "    plt.show()\n",
    "    plt.close()\n",
    "  \n",
    "    if epoch % 10 == 0:\n",
    "        model_generator.save(\"g{}.h5\".format(epoch))\n"
   ]
  },
  {
   "cell_type": "code",
   "execution_count": null,
   "metadata": {
    "_kg_hide-input": true
   },
   "outputs": [],
   "source": []
  }
 ],
 "metadata": {
  "kernelspec": {
   "display_name": "Python 3",
   "language": "python",
   "name": "python3"
  },
  "language_info": {
   "codemirror_mode": {
    "name": "ipython",
    "version": 3
   },
   "file_extension": ".py",
   "mimetype": "text/x-python",
   "name": "python",
   "nbconvert_exporter": "python",
   "pygments_lexer": "ipython3",
   "version": "3.6.4"
  }
 },
 "nbformat": 4,
 "nbformat_minor": 1
}
