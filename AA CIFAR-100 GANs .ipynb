{
 "cells": [
  {
   "cell_type": "code",
   "execution_count": 0,
   "metadata": {
    "colab": {},
    "colab_type": "code",
    "id": "eXrDz9jHiH1Y"
   },
   "outputs": [],
   "source": [
    "# pip install Pillow\n",
    "#pip install scipy==1.1.0"
   ]
  },
  {
   "cell_type": "code",
   "execution_count": 0,
   "metadata": {
    "colab": {},
    "colab_type": "code",
    "id": "U9kst6xpiD18"
   },
   "outputs": [],
   "source": [
    "import numpy as np\n",
    "import pandas as pd \n",
    "import keras\n",
    "from keras.layers import Input, Dense, Reshape, Flatten, Dropout,Concatenate\n",
    "from keras.backend import random_normal,ones_like,zeros_like,mean\n",
    "from keras.backend import get_session\n",
    "from keras.layers import BatchNormalization, Activation, ZeroPadding2D\n",
    "from keras.layers.advanced_activations import LeakyReLU\n",
    "from keras.layers.convolutional import UpSampling2D, Conv2D\n",
    "from keras.models import Sequential, Model\n",
    "from keras.optimizers import Adam\n",
    "from keras.initializers import TruncatedNormal\n",
    "from PIL import Image\n",
    "import warnings\n",
    "import os\n",
    "import time\n",
    "from glob import glob\n",
    "import datetime\n",
    "import matplotlib.pyplot as plt\n",
    "import seaborn as sns"
   ]
  },
  {
   "cell_type": "code",
   "execution_count": 0,
   "metadata": {
    "colab": {},
    "colab_type": "code",
    "id": "6y7DPZ-Th2pF"
   },
   "outputs": [],
   "source": [
    "import warnings\n",
    "warnings.filterwarnings(\"ignore\")\n",
    "import random\n",
    "from scipy import ndimage\n",
    "from scipy import misc\n",
    "from matplotlib.pyplot import imread\n",
    "import numpy as np"
   ]
  },
  {
   "cell_type": "code",
   "execution_count": 0,
   "metadata": {
    "colab": {},
    "colab_type": "code",
    "id": "tbuW_xoXjRuN"
   },
   "outputs": [],
   "source": [
    "# Hyperparameters\n",
    "IMG_SIZE = 32\n",
    "NOISE_SIZE = 100\n",
    "LR_D = 0.00004\n",
    "LR_G = 0.0004\n",
    "BATCH_SIZE = 64\n",
    "EPOCHS = 200 # For better results increase this value \n",
    "BETA1 = 0.5\n",
    "WEIGHT_INIT_STDDEV = 0.02\n",
    "EPSILON = 0.00005\n",
    "SAMPLES_TO_SHOW = 10\n",
    "img_rows = 32\n",
    "img_cols = 32\n",
    "CHANNELS = 3\n",
    "img_shape = (img_rows, img_cols, CHANNELS)"
   ]
  },
  {
   "cell_type": "code",
   "execution_count": 0,
   "metadata": {
    "colab": {},
    "colab_type": "code",
    "id": "fgx0jz2OX_b2"
   },
   "outputs": [],
   "source": [
    "CIFAR100_LABELS_LIST = [\n",
    "    'apple', 'aquarium_fish', 'baby', 'bear', 'beaver', 'bed', 'bee', 'beetle', \n",
    "    'bicycle', 'bottle', 'bowl', 'boy', 'bridge', 'bus', 'butterfly', 'camel', \n",
    "    'can', 'castle', 'caterpillar', 'cattle', 'chair', 'chimpanzee', 'clock', \n",
    "    'cloud', 'cockroach', 'couch', 'crab', 'crocodile', 'cup', 'dinosaur', \n",
    "    'dolphin', 'elephant', 'flatfish', 'forest', 'fox', 'girl', 'hamster', \n",
    "    'house', 'kangaroo', 'keyboard', 'lamp', 'lawn_mower', 'leopard', 'lion',\n",
    "    'lizard', 'lobster', 'man', 'maple_tree', 'motorcycle', 'mountain', 'mouse',\n",
    "    'mushroom', 'oak_tree', 'orange', 'orchid', 'otter', 'palm_tree', 'pear',\n",
    "    'pickup_truck', 'pine_tree', 'plain', 'plate', 'poppy', 'porcupine',\n",
    "    'possum', 'rabbit', 'raccoon', 'ray', 'road', 'rocket', 'rose',\n",
    "    'sea', 'seal', 'shark', 'shrew', 'skunk', 'skyscraper', 'snail', 'snake',\n",
    "    'spider', 'squirrel', 'streetcar', 'sunflower', 'sweet_pepper', 'table',\n",
    "    'tank', 'telephone', 'television', 'tiger', 'tractor', 'train', 'trout',\n",
    "    'tulip', 'turtle', 'wardrobe', 'whale', 'willow_tree', 'wolf', 'woman',\n",
    "    'worm'\n",
    "]\n"
   ]
  },
  {
   "cell_type": "code",
   "execution_count": 0,
   "metadata": {
    "colab": {},
    "colab_type": "code",
    "id": "gub_rhttW1sp"
   },
   "outputs": [],
   "source": [
    "from keras.datasets import cifar100\n",
    "X_train = cifar100.load_data()\n",
    "data = X_train[0]\n",
    "images= data[0]\n",
    "labels= data[1]"
   ]
  },
  {
   "cell_type": "code",
   "execution_count": 84,
   "metadata": {
    "colab": {
     "base_uri": "https://localhost:8080/",
     "height": 51
    },
    "colab_type": "code",
    "id": "FtXVI0I6W_r0",
    "outputId": "6a193cb9-4ccc-4f2b-fbbc-7a15803a3d72"
   },
   "outputs": [
    {
     "name": "stdout",
     "output_type": "stream",
     "text": [
      "(50000, 32, 32, 3)\n",
      "(50000, 1)\n"
     ]
    }
   ],
   "source": [
    "print(images.shape)\n",
    "print(labels.shape)"
   ]
  },
  {
   "cell_type": "code",
   "execution_count": 0,
   "metadata": {
    "colab": {},
    "colab_type": "code",
    "id": "ka6g_O0VXBuz"
   },
   "outputs": [],
   "source": [
    "y=[]\n",
    "x=[]\n",
    "for i in range(len( labels)):\n",
    "  y= labels[i]\n",
    "  if y==0: #12 is for bridges\n",
    "    x.append(images[i])"
   ]
  },
  {
   "cell_type": "code",
   "execution_count": 86,
   "metadata": {
    "colab": {
     "base_uri": "https://localhost:8080/",
     "height": 34
    },
    "colab_type": "code",
    "id": "HUc4TsjgX4Bg",
    "outputId": "e81b5055-d77f-4c66-a077-9949bd19c66e"
   },
   "outputs": [
    {
     "data": {
      "text/plain": [
       "(500, 32, 32, 3)"
      ]
     },
     "execution_count": 86,
     "metadata": {
      "tags": []
     },
     "output_type": "execute_result"
    }
   ],
   "source": [
    "OUTPUT_DIR = \"\"\n",
    "images=np.array(x)/(225)\n",
    "images.shape"
   ]
  },
  {
   "cell_type": "code",
   "execution_count": 0,
   "metadata": {
    "colab": {},
    "colab_type": "code",
    "id": "QqiA-GCgiuVG"
   },
   "outputs": [],
   "source": [
    "\n",
    "def show_samples(sample_images, name, epoch):\n",
    "    figure, axes = plt.subplots(1, len(sample_images), figsize = (IMG_SIZE, IMG_SIZE))\n",
    "    figure.set_size_inches(15,15)\n",
    "    for index, axis in enumerate(axes):\n",
    "        image_array = sample_images[index]\n",
    "        axis.imshow(image_array)\n",
    "    plt.tight_layout()\n",
    "    plt.show()\n",
    "    plt.close()"
   ]
  },
  {
   "cell_type": "code",
   "execution_count": 88,
   "metadata": {
    "colab": {
     "base_uri": "https://localhost:8080/",
     "height": 294
    },
    "colab_type": "code",
    "id": "AwBXCz0MivdI",
    "outputId": "94b7ffd0-a0ea-4acf-9c5a-0240d851e626"
   },
   "outputs": [
    {
     "name": "stdout",
     "output_type": "stream",
     "text": [
      "Input: (500, 32, 32, 3)\n"
     ]
    },
    {
     "name": "stderr",
     "output_type": "stream",
     "text": [
      "Clipping input data to the valid range for imshow with RGB data ([0..1] for floats or [0..255] for integers).\n",
      "Clipping input data to the valid range for imshow with RGB data ([0..1] for floats or [0..255] for integers).\n",
      "Clipping input data to the valid range for imshow with RGB data ([0..1] for floats or [0..255] for integers).\n",
      "Clipping input data to the valid range for imshow with RGB data ([0..1] for floats or [0..255] for integers).\n",
      "Clipping input data to the valid range for imshow with RGB data ([0..1] for floats or [0..255] for integers).\n",
      "Clipping input data to the valid range for imshow with RGB data ([0..1] for floats or [0..255] for integers).\n",
      "Clipping input data to the valid range for imshow with RGB data ([0..1] for floats or [0..255] for integers).\n",
      "Clipping input data to the valid range for imshow with RGB data ([0..1] for floats or [0..255] for integers).\n",
      "Clipping input data to the valid range for imshow with RGB data ([0..1] for floats or [0..255] for integers).\n"
     ]
    },
    {
     "data": {
      "image/png": "[encoded data removed]",
      "text/plain": [
       "<Figure size 1080x1080 with 10 Axes>"
      ]
     },
     "metadata": {
      "tags": []
     },
     "output_type": "display_data"
    }
   ],
   "source": [
    "print (\"Input: \" + str(images.shape))\n",
    "sample_images = random.sample(list(images), SAMPLES_TO_SHOW)\n",
    "show_samples(sample_images, OUTPUT_DIR + \"inputs\", 0)"
   ]
  },
  {
   "cell_type": "markdown",
   "metadata": {
    "colab_type": "text",
    "id": "8FDRsGMtoeRT"
   },
   "source": [
    "# **GANs** **starts**"
   ]
  },
  {
   "cell_type": "code",
   "execution_count": 0,
   "metadata": {
    "colab": {},
    "colab_type": "code",
    "id": "aoAWljTHjk3G"
   },
   "outputs": [],
   "source": [
    "def GeneratorFunction(noise_shape=(NOISE_SIZE,)):\n",
    "    \n",
    "    input_layer = Input(noise_shape)\n",
    "    generator = Dense(1024*8*8, activation='relu')(input_layer)\n",
    "    generator = Reshape((8, 8, 1024)) (generator) #8,8,1024\n",
    "    generator = LeakyReLU(alpha=0.2) (generator)#8,8,1024\n",
    "                        \n",
    "    generator = keras.layers.Conv2DTranspose(filters=512, kernel_size=[5,5], padding=\"same\",\n",
    "                                             strides=[2,2], kernel_initializer=TruncatedNormal(stddev = WEIGHT_INIT_STDDEV))(generator)#16,16,512\n",
    "    generator = BatchNormalization(momentum=0.8,epsilon = EPSILON) (generator)#16,16,512\n",
    "    generator = keras.layers.LeakyReLU(alpha=0.2) (generator)#16,16,512\n",
    "                        \n",
    "    generator = keras.layers.Conv2DTranspose(filters=256, kernel_size=[5,5], padding=\"same\", strides=[2,2],\n",
    "                                               kernel_initializer=TruncatedNormal(stddev = WEIGHT_INIT_STDDEV))(generator) #32,32,256\n",
    "    generator = BatchNormalization(momentum=0.8,epsilon = EPSILON,name=\"batch_trans_conv2\") (generator)#32,32,256\n",
    "    generator = keras.layers.LeakyReLU(alpha=0.2) (generator) #32,32,256\n",
    "                        \n",
    "    generator = keras.layers.Conv2DTranspose(filters=128, kernel_size=[5,5], padding=\"same\", strides=[1,1],\n",
    "                                               kernel_initializer=TruncatedNormal(stddev = WEIGHT_INIT_STDDEV)) (generator)#64,64,128\n",
    "    generator = BatchNormalization(momentum=0.8,epsilon = EPSILON,name=\"batch_trans_conv3\") (generator) #64,64,128\n",
    "    generator = keras.layers.LeakyReLU(alpha=0.2)(generator)#64,64,128\n",
    "    \n",
    "    generator = keras.layers.Conv2DTranspose(filters=64, kernel_size=[5,5], padding=\"same\", strides=[1,1],\n",
    "                                               kernel_initializer=TruncatedNormal(stddev = WEIGHT_INIT_STDDEV)) (generator)#64,64,64\n",
    "    generator = BatchNormalization(momentum=0.8,epsilon = EPSILON,name=\"batch_trans_conv4\") (generator) #64,64,64\n",
    "    generator = keras.layers.LeakyReLU(alpha=0.2) (generator) #64,64,64\n",
    "    \n",
    "    generator = keras.layers.Conv2DTranspose(filters=3, kernel_size=[5,5], padding=\"same\", strides=[1,1],\n",
    "                                               kernel_initializer=TruncatedNormal(stddev = WEIGHT_INIT_STDDEV)) (generator) #64,64,3\n",
    "    out = Activation(\"tanh\")(generator) #64,64,3\n",
    "    \n",
    "    model = Model(inputs=[input_layer], outputs=out)\n",
    "    model.summary()\n",
    "  \n",
    "    return model"
   ]
  },
  {
   "cell_type": "code",
   "execution_count": 0,
   "metadata": {
    "colab": {},
    "colab_type": "code",
    "id": "ewXG5xsGonRe"
   },
   "outputs": [],
   "source": [
    "def discriminatorFunction(img_shape=(IMG_SIZE, IMG_SIZE, CHANNELS)):\n",
    "    \n",
    "    input_layer = Input(img_shape)\n",
    "    discriminator = Conv2D(filters = 64, kernel_size=[5,5],strides=[2,2],kernel_initializer=TruncatedNormal(stddev = WEIGHT_INIT_STDDEV), \n",
    "                             padding=\"SAME\",input_shape = img_shape)(input_layer)\n",
    "    \n",
    "    discriminator = BatchNormalization(momentum=0.8,epsilon = EPSILON)(discriminator)\n",
    "    discriminator = LeakyReLU(alpha=0.2)(discriminator)\n",
    "\n",
    "    discriminator = Conv2D(filters=128, kernel_size=[5,5], strides=[2,2], padding=\"same\",\n",
    "                              kernel_initializer=TruncatedNormal(stddev = WEIGHT_INIT_STDDEV))(discriminator)\n",
    "\n",
    "    discriminator = BatchNormalization(momentum=0.8,epsilon = EPSILON)(discriminator)\n",
    "    discriminator = LeakyReLU(alpha=0.2)(discriminator)\n",
    "\n",
    "    discriminator = Conv2D(filters=256, kernel_size=[5,5], strides=[2,2], padding=\"same\",\n",
    "                             kernel_initializer=TruncatedNormal(stddev = WEIGHT_INIT_STDDEV))(discriminator)\n",
    "\n",
    "    discriminator = BatchNormalization(momentum=0.8,epsilon = EPSILON)(discriminator)\n",
    "    discriminator = LeakyReLU(alpha=0.2)(discriminator)\n",
    "\n",
    "    discriminator = Conv2D(filters=512, kernel_size=[5,5], strides=[1,1], padding=\"same\",\n",
    "                             kernel_initializer=TruncatedNormal(stddev = WEIGHT_INIT_STDDEV))(discriminator)\n",
    "\n",
    "    discriminator = BatchNormalization(momentum=0.8,epsilon = EPSILON)(discriminator)\n",
    "    discriminator = LeakyReLU(alpha=0.2)(discriminator)\n",
    "\n",
    "    discriminator = Conv2D(filters=1024, kernel_size=[5,5], strides=[2,2], padding=\"same\",\n",
    "                             kernel_initializer=TruncatedNormal(stddev = WEIGHT_INIT_STDDEV))(discriminator)\n",
    "    \n",
    "    discriminator = BatchNormalization(momentum=0.8,epsilon = EPSILON)(discriminator)\n",
    "    discriminator = LeakyReLU(alpha=0.2)(discriminator)\n",
    "\n",
    "    discriminator = Flatten()(discriminator)\n",
    "\n",
    "    out = Dense(1, activation='sigmoid')(discriminator)\n",
    "\n",
    "    model = Model(inputs=[input_layer], outputs=out)\n",
    "    model.summary()\n",
    "    \n",
    "    return model"
   ]
  },
  {
   "cell_type": "code",
   "execution_count": 91,
   "metadata": {
    "colab": {
     "base_uri": "https://localhost:8080/",
     "height": 765
    },
    "colab_type": "code",
    "id": "Czj2xlEzoyLk",
    "outputId": "4fbfa229-7829-4a62-d684-b8b339d50561"
   },
   "outputs": [
    {
     "name": "stdout",
     "output_type": "stream",
     "text": [
      "Model: \"model_11\"\n",
      "_________________________________________________________________\n",
      "Layer (type)                 Output Shape              Param #   \n",
      "=================================================================\n",
      "input_11 (InputLayer)        (None, 32, 32, 3)         0         \n",
      "_________________________________________________________________\n",
      "conv2d_16 (Conv2D)           (None, 16, 16, 64)        4864      \n",
      "_________________________________________________________________\n",
      "batch_normalization_20 (Batc (None, 16, 16, 64)        256       \n",
      "_________________________________________________________________\n",
      "leaky_re_lu_36 (LeakyReLU)   (None, 16, 16, 64)        0         \n",
      "_________________________________________________________________\n",
      "conv2d_17 (Conv2D)           (None, 8, 8, 128)         204928    \n",
      "_________________________________________________________________\n",
      "batch_normalization_21 (Batc (None, 8, 8, 128)         512       \n",
      "_________________________________________________________________\n",
      "leaky_re_lu_37 (LeakyReLU)   (None, 8, 8, 128)         0         \n",
      "_________________________________________________________________\n",
      "conv2d_18 (Conv2D)           (None, 4, 4, 256)         819456    \n",
      "_________________________________________________________________\n",
      "batch_normalization_22 (Batc (None, 4, 4, 256)         1024      \n",
      "_________________________________________________________________\n",
      "leaky_re_lu_38 (LeakyReLU)   (None, 4, 4, 256)         0         \n",
      "_________________________________________________________________\n",
      "conv2d_19 (Conv2D)           (None, 4, 4, 512)         3277312   \n",
      "_________________________________________________________________\n",
      "batch_normalization_23 (Batc (None, 4, 4, 512)         2048      \n",
      "_________________________________________________________________\n",
      "leaky_re_lu_39 (LeakyReLU)   (None, 4, 4, 512)         0         \n",
      "_________________________________________________________________\n",
      "conv2d_20 (Conv2D)           (None, 2, 2, 1024)        13108224  \n",
      "_________________________________________________________________\n",
      "batch_normalization_24 (Batc (None, 2, 2, 1024)        4096      \n",
      "_________________________________________________________________\n",
      "leaky_re_lu_40 (LeakyReLU)   (None, 2, 2, 1024)        0         \n",
      "_________________________________________________________________\n",
      "flatten_4 (Flatten)          (None, 4096)              0         \n",
      "_________________________________________________________________\n",
      "dense_8 (Dense)              (None, 1)                 4097      \n",
      "=================================================================\n",
      "Total params: 17,426,817\n",
      "Trainable params: 17,422,849\n",
      "Non-trainable params: 3,968\n",
      "_________________________________________________________________\n"
     ]
    }
   ],
   "source": [
    "#print(\"Discriminator\")\n",
    "model_discriminator = discriminatorFunction(img_shape=(IMG_SIZE, IMG_SIZE, CHANNELS))\n",
    "model_discriminator.compile(loss='binary_crossentropy',\n",
    "                                    optimizer=Adam(lr=LR_D, beta_1=BETA1),\n",
    "                                    metrics=['accuracy'])"
   ]
  },
  {
   "cell_type": "code",
   "execution_count": 92,
   "metadata": {
    "colab": {
     "base_uri": "https://localhost:8080/",
     "height": 782
    },
    "colab_type": "code",
    "id": "qdaz1hFNo1Ff",
    "outputId": "cf349f8f-7dad-4862-f04a-85c865b911a8"
   },
   "outputs": [
    {
     "name": "stdout",
     "output_type": "stream",
     "text": [
      "Generator\n",
      "Model: \"model_12\"\n",
      "_________________________________________________________________\n",
      "Layer (type)                 Output Shape              Param #   \n",
      "=================================================================\n",
      "input_12 (InputLayer)        (None, 100)               0         \n",
      "_________________________________________________________________\n",
      "dense_9 (Dense)              (None, 65536)             6619136   \n",
      "_________________________________________________________________\n",
      "reshape_5 (Reshape)          (None, 8, 8, 1024)        0         \n",
      "_________________________________________________________________\n",
      "leaky_re_lu_41 (LeakyReLU)   (None, 8, 8, 1024)        0         \n",
      "_________________________________________________________________\n",
      "conv2d_transpose_21 (Conv2DT (None, 16, 16, 512)       13107712  \n",
      "_________________________________________________________________\n",
      "batch_normalization_25 (Batc (None, 16, 16, 512)       2048      \n",
      "_________________________________________________________________\n",
      "leaky_re_lu_42 (LeakyReLU)   (None, 16, 16, 512)       0         \n",
      "_________________________________________________________________\n",
      "conv2d_transpose_22 (Conv2DT (None, 32, 32, 256)       3277056   \n",
      "_________________________________________________________________\n",
      "batch_trans_conv2 (BatchNorm (None, 32, 32, 256)       1024      \n",
      "_________________________________________________________________\n",
      "leaky_re_lu_43 (LeakyReLU)   (None, 32, 32, 256)       0         \n",
      "_________________________________________________________________\n",
      "conv2d_transpose_23 (Conv2DT (None, 32, 32, 128)       819328    \n",
      "_________________________________________________________________\n",
      "batch_trans_conv3 (BatchNorm (None, 32, 32, 128)       512       \n",
      "_________________________________________________________________\n",
      "leaky_re_lu_44 (LeakyReLU)   (None, 32, 32, 128)       0         \n",
      "_________________________________________________________________\n",
      "conv2d_transpose_24 (Conv2DT (None, 32, 32, 64)        204864    \n",
      "_________________________________________________________________\n",
      "batch_trans_conv4 (BatchNorm (None, 32, 32, 64)        256       \n",
      "_________________________________________________________________\n",
      "leaky_re_lu_45 (LeakyReLU)   (None, 32, 32, 64)        0         \n",
      "_________________________________________________________________\n",
      "conv2d_transpose_25 (Conv2DT (None, 32, 32, 3)         4803      \n",
      "_________________________________________________________________\n",
      "activation_5 (Activation)    (None, 32, 32, 3)         0         \n",
      "=================================================================\n",
      "Total params: 24,036,739\n",
      "Trainable params: 24,034,819\n",
      "Non-trainable params: 1,920\n",
      "_________________________________________________________________\n"
     ]
    }
   ],
   "source": [
    "print(\"Generator\")\n",
    "model_generator = GeneratorFunction(noise_shape=(NOISE_SIZE,))"
   ]
  },
  {
   "cell_type": "code",
   "execution_count": 93,
   "metadata": {
    "colab": {
     "base_uri": "https://localhost:8080/",
     "height": 272
    },
    "colab_type": "code",
    "id": "RwddBOPgo4yz",
    "outputId": "d7beb04b-04bf-4f40-9a52-810ed73a75f0"
   },
   "outputs": [
    {
     "name": "stdout",
     "output_type": "stream",
     "text": [
      "Model created based on Discriminator and Generator\n",
      "Model: \"model_13\"\n",
      "_________________________________________________________________\n",
      "Layer (type)                 Output Shape              Param #   \n",
      "=================================================================\n",
      "input_13 (InputLayer)        (None, 100)               0         \n",
      "_________________________________________________________________\n",
      "model_12 (Model)             (None, 32, 32, 3)         24036739  \n",
      "_________________________________________________________________\n",
      "model_11 (Model)             (None, 1)                 17426817  \n",
      "=================================================================\n",
      "Total params: 41,463,556\n",
      "Trainable params: 24,034,819\n",
      "Non-trainable params: 17,428,737\n",
      "_________________________________________________________________\n"
     ]
    }
   ],
   "source": [
    "#build thwe Gan\n",
    "z = Input(shape=(NOISE_SIZE,))\n",
    "img = model_generator(z)\n",
    "model_discriminator.trainable = False #discriminator is not trainable for GANs\n",
    "real = model_discriminator(img)\n",
    "gan = Model(z, real)\n",
    "gan.compile(loss='binary_crossentropy', optimizer=Adam(lr=LR_G, beta_1=BETA1))\n",
    "print(\"Model created based on Discriminator and Generator\")\n",
    "gan.summary()\n"
   ]
  },
  {
   "cell_type": "code",
   "execution_count": 0,
   "metadata": {
    "colab": {},
    "colab_type": "code",
    "id": "VnP_kM7go79N"
   },
   "outputs": [],
   "source": [
    "def summarize_epoch(d_losses, g_losses):\n",
    "    fig, ax = plt.subplots()\n",
    "    plt.plot(d_losses, label='Discriminator', alpha=0.6)\n",
    "    plt.plot(g_losses, label='Generator', alpha=0.6)\n",
    "    plt.title(\"Losses\")\n",
    "    plt.legend()\n",
    "    plt.show()\n",
    "    plt.close()"
   ]
  },
  {
   "cell_type": "code",
   "execution_count": 0,
   "metadata": {
    "colab": {},
    "colab_type": "code",
    "id": "TFb6-aWvpAFd"
   },
   "outputs": [],
   "source": [
    "# Adversarial ground truths\n",
    "valid = np.ones((BATCH_SIZE, 1))\n",
    "fake = np.zeros((BATCH_SIZE, 1))\n",
    "\n",
    "r, c = 4, 4\n",
    "noise = np.random.normal(0, 1, (r*c, NOISE_SIZE))"
   ]
  },
  {
   "cell_type": "code",
   "execution_count": 96,
   "metadata": {
    "colab": {
     "base_uri": "https://localhost:8080/",
     "height": 34
    },
    "colab_type": "code",
    "id": "KcbYPuAYpEl4",
    "outputId": "aaed579f-8b08-4732-a64b-fc6a719ff805"
   },
   "outputs": [
    {
     "name": "stdout",
     "output_type": "stream",
     "text": [
      "Training begins... Total epochs: 200, steps per epoch: 7\n"
     ]
    }
   ],
   "source": [
    "#calculate steps per epoch\n",
    "steps_per_epoch = len(images)//BATCH_SIZE\n",
    "print(\"Training begins... Total epochs: {}, steps per epoch: {}\".format(EPOCHS, steps_per_epoch))"
   ]
  },
  {
   "cell_type": "code",
   "execution_count": 0,
   "metadata": {
    "colab": {},
    "colab_type": "code",
    "id": "pQq2NS_wpHkU"
   },
   "outputs": [],
   "source": [
    "steps_list = [x for x in range(steps_per_epoch)]"
   ]
  },
  {
   "cell_type": "code",
   "execution_count": 0,
   "metadata": {
    "colab": {
     "base_uri": "https://localhost:8080/",
     "height": 1000
    },
    "colab_type": "code",
    "id": "qlCrE1PBpMCa",
    "outputId": "f30f11a3-74d2-4e47-e4ec-fa808f921047"
   },
   "outputs": [
    {
     "name": "stderr",
     "output_type": "stream",
     "text": [
      "\n",
      "\n",
      "\n",
      "  0%|          | 0/200 [00:00<?, ?it/s]\u001b[A\u001b[A\u001b[A"
     ]
    },
    {
     "name": "stdout",
     "output_type": "stream",
     "text": [
      "Epoch: 1/200 | Step: 1/7 [D loss: 1.6379, acc.: 46.09%] [G loss: 0.6460]\n",
      "Epoch: 1/200 | Step: 2/7 [D loss: 1.9097, acc.: 50.00%] [G loss: 1.4242]\n",
      "Epoch: 1/200 | Step: 3/7 [D loss: 1.1008, acc.: 48.44%] [G loss: 3.1726]\n",
      "Epoch: 1/200 | Step: 4/7 [D loss: 0.5937, acc.: 67.19%] [G loss: 3.9749]\n",
      "Epoch: 1/200 | Step: 5/7 [D loss: 0.4280, acc.: 85.16%] [G loss: 4.3755]\n",
      "Epoch: 1/200 | Step: 6/7 [D loss: 0.2747, acc.: 94.53%] [G loss: 4.3846]\n",
      "Epoch: 1/200 | Step: 7/7 [D loss: 0.1156, acc.: 98.44%] [G loss: 2.9247]\n"
     ]
    },
    {
     "data": {
      "image/png": "[encoded data removed]",
      "text/plain": [
       "<Figure size 432x288 with 1 Axes>"
      ]
     },
     "metadata": {
      "tags": []
     },
     "output_type": "display_data"
    },
    {
     "name": "stderr",
     "output_type": "stream",
     "text": [
      "Clipping input data to the valid range for imshow with RGB data ([0..1] for floats or [0..255] for integers).\n",
      "Clipping input data to the valid range for imshow with RGB data ([0..1] for floats or [0..255] for integers).\n",
      "Clipping input data to the valid range for imshow with RGB data ([0..1] for floats or [0..255] for integers).\n",
      "Clipping input data to the valid range for imshow with RGB data ([0..1] for floats or [0..255] for integers).\n",
      "Clipping input data to the valid range for imshow with RGB data ([0..1] for floats or [0..255] for integers).\n",
      "Clipping input data to the valid range for imshow with RGB data ([0..1] for floats or [0..255] for integers).\n",
      "Clipping input data to the valid range for imshow with RGB data ([0..1] for floats or [0..255] for integers).\n",
      "Clipping input data to the valid range for imshow with RGB data ([0..1] for floats or [0..255] for integers).\n",
      "Clipping input data to the valid range for imshow with RGB data ([0..1] for floats or [0..255] for integers).\n",
      "Clipping input data to the valid range for imshow with RGB data ([0..1] for floats or [0..255] for integers).\n",
      "Clipping input data to the valid range for imshow with RGB data ([0..1] for floats or [0..255] for integers).\n",
      "Clipping input data to the valid range for imshow with RGB data ([0..1] for floats or [0..255] for integers).\n",
      "Clipping input data to the valid range for imshow with RGB data ([0..1] for floats or [0..255] for integers).\n",
      "Clipping input data to the valid range for imshow with RGB data ([0..1] for floats or [0..255] for integers).\n",
      "Clipping input data to the valid range for imshow with RGB data ([0..1] for floats or [0..255] for integers).\n",
      "Clipping input data to the valid range for imshow with RGB data ([0..1] for floats or [0..255] for integers).\n"
     ]
    },
    {
     "data": {
      "image/png": "[encoded data removed]",
      "text/plain": [
       "<Figure size 432x288 with 16 Axes>"
      ]
     },
     "metadata": {
      "tags": []
     },
     "output_type": "display_data"
    },
    {
     "name": "stderr",
     "output_type": "stream",
     "text": [
      "\n",
      "\n",
      "\n",
      "  0%|          | 1/200 [08:19<27:35:38, 499.19s/it]\u001b[A\u001b[A\u001b[A"
     ]
    },
    {
     "name": "stdout",
     "output_type": "stream",
     "text": [
      "Epoch: 2/200 | Step: 1/7 [D loss: 0.2249, acc.: 97.66%] [G loss: 4.2519]\n"
     ]
    }
   ],
   "source": [
    "warnings.filterwarnings(\"ignore\")\n",
    "from tqdm import tqdm\n",
    "\n",
    "d_loss_list = []\n",
    "g_loss_list = []\n",
    "\n",
    "for epoch in tqdm(range(EPOCHS)):\n",
    "    epoch += 1 #start from 1\n",
    "    # So, need to append d_loss, g_loss, and step to a dataframe with epoch as \n",
    "    \n",
    "    for step in range(steps_per_epoch):\n",
    "        step += 1 #start from 1\n",
    "\n",
    "        # ---------------------\n",
    "        #  Train Discriminator\n",
    "        # ---------------------\n",
    "\n",
    "        # Select a random half of images\n",
    "        idx = np.random.randint(0, images.shape[0], BATCH_SIZE)\n",
    "        imgs = images[idx]\n",
    "\n",
    "        # Sample noise and generate a batch of new images\n",
    "        noise = np.random.normal(0, 1, (BATCH_SIZE, NOISE_SIZE))\n",
    "        gen_imgs = model_generator.predict(noise)\n",
    "\n",
    "\n",
    "        # Train the discriminator (real classified as ones and generated as zeros)\n",
    "        d_loss_real = model_discriminator.train_on_batch(imgs, valid)\n",
    "        d_loss_fake = model_discriminator.train_on_batch(gen_imgs, fake)\n",
    "        d_loss = 0.5 * np.add(d_loss_real, d_loss_fake)\n",
    "\n",
    "        # ---------------------\n",
    "        #  Train GAN\n",
    "        # ---------------------\n",
    "\n",
    "        # Train the generator (wants discriminator to mistake images as real)\n",
    "        g_loss = gan.train_on_batch(noise, valid)\n",
    "\n",
    "        # Plot the progress\n",
    "        print (\"Epoch: {}/{} | Step: {}/{} [D loss: {:.4f}, acc.: {:.2f}%] [G loss: {:.4f}]\".format(\n",
    "                    epoch, EPOCHS, step, steps_per_epoch, d_loss[0], 100*d_loss[1], g_loss\n",
    "                ))\n",
    "\n",
    "        # Append d_loss, g_loss, and step to a dataframe\n",
    "        #step_df = df.append({'d_loss' : d_loss[0], 'g_loss' : g_loss}, ignore_index=True)\n",
    "\n",
    "        d_loss_zero = d_loss[0]\n",
    "\n",
    "        d_loss_list.append(d_loss_zero)\n",
    "        g_loss_list.append(g_loss)\n",
    "\n",
    "\n",
    "  # Plot Loss\n",
    "    summarize_epoch(d_loss_list,g_loss_list)\n",
    "\n",
    "    # Plot images\n",
    "    gen_imgs = model_generator.predict(noise)\n",
    "\n",
    "    fig, axs = plt.subplots(r, c)\n",
    "    cnt = 0\n",
    "    for i in range(r):\n",
    "        for j in range(c):\n",
    "            axs[i,j].imshow(gen_imgs[cnt, :, :, :])\n",
    "            axs[i,j].axis('off')\n",
    "            cnt += 1\n",
    "    plt.show()\n",
    "    plt.close()\n",
    "  \n",
    "    if epoch % 10 == 0:\n",
    "        model_generator.save(\"g{}.h5\".format(epoch))\n"
   ]
  }
 ],
 "metadata": {
  "colab": {
   "name": "cifar100_ label_extraction_final complete .ipynb",
   "provenance": []
  },
  "kernelspec": {
   "display_name": "Python 3",
   "language": "python",
   "name": "python3"
  },
  "language_info": {
   "codemirror_mode": {
    "name": "ipython",
    "version": 3
   },
   "file_extension": ".py",
   "mimetype": "text/x-python",
   "name": "python",
   "nbconvert_exporter": "python",
   "pygments_lexer": "ipython3",
   "version": "3.6.4"
  }
 },
 "nbformat": 4,
 "nbformat_minor": 1
}
